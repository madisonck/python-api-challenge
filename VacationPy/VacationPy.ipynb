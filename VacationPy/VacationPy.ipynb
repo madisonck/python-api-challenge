{
 "cells": [
  {
   "cell_type": "markdown",
   "metadata": {},
   "source": [
    "# VacationPy\n",
    "----\n",
    "\n",
    "#### Note\n",
    "* Keep an eye on your API usage. Use https://developers.google.com/maps/reporting/gmp-reporting as reference for how to monitor your usage and billing.\n",
    "\n",
    "* Instructions have been included for each segment. You do not have to follow them exactly, but they are included to help you think through the steps."
   ]
  },
  {
   "cell_type": "code",
   "execution_count": 1,
   "metadata": {},
   "outputs": [],
   "source": [
    "# Dependencies and Setup\n",
    "import matplotlib.pyplot as plt\n",
    "import pandas as pd\n",
    "import numpy as np\n",
    "import requests\n",
    "import gmaps\n",
    "import os\n",
    "import json\n",
    "\n",
    "# Import API key\n",
    "from api_keys import g_key"
   ]
  },
  {
   "cell_type": "markdown",
   "metadata": {},
   "source": [
    "### Store Part I results into DataFrame\n",
    "* Load the csv exported in Part I to a DataFrame"
   ]
  },
  {
   "cell_type": "code",
   "execution_count": 3,
   "metadata": {},
   "outputs": [
    {
     "output_type": "execute_result",
     "data": {
      "text/plain": [
       "              City Country        Date  Latitude  Longitude  \\\n",
       "0           castro      BR  1605236349    -24.79     -50.01   \n",
       "1           avarua      CK  1605236349    -21.21    -159.78   \n",
       "2           bosaso      SO  1605236349     11.28      49.18   \n",
       "3          erdenet      MN  1605236349     49.03     104.08   \n",
       "4            yarim      YE  1605236349     14.30      44.38   \n",
       "..             ...     ...         ...       ...        ...   \n",
       "543         yulara      AU  1605236489    -25.24     130.99   \n",
       "544         rudsar      IR  1605236489     37.14      50.29   \n",
       "545          korla      CN  1605236489     41.76      86.15   \n",
       "546    belaya gora      RU  1605236489     68.53     146.42   \n",
       "547  alta floresta      BR  1605236490     -9.88     -56.09   \n",
       "\n",
       "     Maximum Temperature  Wind Speed  Humidity  Cloudiness  \n",
       "0                  60.67        2.51        95           2  \n",
       "1                  78.80        9.17        74          57  \n",
       "2                  73.31        2.64        80          96  \n",
       "3                  33.62        4.52        67           0  \n",
       "4                  45.03        5.12        58           0  \n",
       "..                   ...         ...       ...         ...  \n",
       "543                93.20       10.29         9           0  \n",
       "544                55.40        6.93        82          75  \n",
       "545                44.76        4.52        47           0  \n",
       "546               -18.06        1.39        89          37  \n",
       "547                71.11        2.80        95         100  \n",
       "\n",
       "[544 rows x 9 columns]"
      ],
      "text/html": "<div>\n<style scoped>\n    .dataframe tbody tr th:only-of-type {\n        vertical-align: middle;\n    }\n\n    .dataframe tbody tr th {\n        vertical-align: top;\n    }\n\n    .dataframe thead th {\n        text-align: right;\n    }\n</style>\n<table border=\"1\" class=\"dataframe\">\n  <thead>\n    <tr style=\"text-align: right;\">\n      <th></th>\n      <th>City</th>\n      <th>Country</th>\n      <th>Date</th>\n      <th>Latitude</th>\n      <th>Longitude</th>\n      <th>Maximum Temperature</th>\n      <th>Wind Speed</th>\n      <th>Humidity</th>\n      <th>Cloudiness</th>\n    </tr>\n  </thead>\n  <tbody>\n    <tr>\n      <th>0</th>\n      <td>castro</td>\n      <td>BR</td>\n      <td>1605236349</td>\n      <td>-24.79</td>\n      <td>-50.01</td>\n      <td>60.67</td>\n      <td>2.51</td>\n      <td>95</td>\n      <td>2</td>\n    </tr>\n    <tr>\n      <th>1</th>\n      <td>avarua</td>\n      <td>CK</td>\n      <td>1605236349</td>\n      <td>-21.21</td>\n      <td>-159.78</td>\n      <td>78.80</td>\n      <td>9.17</td>\n      <td>74</td>\n      <td>57</td>\n    </tr>\n    <tr>\n      <th>2</th>\n      <td>bosaso</td>\n      <td>SO</td>\n      <td>1605236349</td>\n      <td>11.28</td>\n      <td>49.18</td>\n      <td>73.31</td>\n      <td>2.64</td>\n      <td>80</td>\n      <td>96</td>\n    </tr>\n    <tr>\n      <th>3</th>\n      <td>erdenet</td>\n      <td>MN</td>\n      <td>1605236349</td>\n      <td>49.03</td>\n      <td>104.08</td>\n      <td>33.62</td>\n      <td>4.52</td>\n      <td>67</td>\n      <td>0</td>\n    </tr>\n    <tr>\n      <th>4</th>\n      <td>yarim</td>\n      <td>YE</td>\n      <td>1605236349</td>\n      <td>14.30</td>\n      <td>44.38</td>\n      <td>45.03</td>\n      <td>5.12</td>\n      <td>58</td>\n      <td>0</td>\n    </tr>\n    <tr>\n      <th>...</th>\n      <td>...</td>\n      <td>...</td>\n      <td>...</td>\n      <td>...</td>\n      <td>...</td>\n      <td>...</td>\n      <td>...</td>\n      <td>...</td>\n      <td>...</td>\n    </tr>\n    <tr>\n      <th>543</th>\n      <td>yulara</td>\n      <td>AU</td>\n      <td>1605236489</td>\n      <td>-25.24</td>\n      <td>130.99</td>\n      <td>93.20</td>\n      <td>10.29</td>\n      <td>9</td>\n      <td>0</td>\n    </tr>\n    <tr>\n      <th>544</th>\n      <td>rudsar</td>\n      <td>IR</td>\n      <td>1605236489</td>\n      <td>37.14</td>\n      <td>50.29</td>\n      <td>55.40</td>\n      <td>6.93</td>\n      <td>82</td>\n      <td>75</td>\n    </tr>\n    <tr>\n      <th>545</th>\n      <td>korla</td>\n      <td>CN</td>\n      <td>1605236489</td>\n      <td>41.76</td>\n      <td>86.15</td>\n      <td>44.76</td>\n      <td>4.52</td>\n      <td>47</td>\n      <td>0</td>\n    </tr>\n    <tr>\n      <th>546</th>\n      <td>belaya gora</td>\n      <td>RU</td>\n      <td>1605236489</td>\n      <td>68.53</td>\n      <td>146.42</td>\n      <td>-18.06</td>\n      <td>1.39</td>\n      <td>89</td>\n      <td>37</td>\n    </tr>\n    <tr>\n      <th>547</th>\n      <td>alta floresta</td>\n      <td>BR</td>\n      <td>1605236490</td>\n      <td>-9.88</td>\n      <td>-56.09</td>\n      <td>71.11</td>\n      <td>2.80</td>\n      <td>95</td>\n      <td>100</td>\n    </tr>\n  </tbody>\n</table>\n<p>544 rows × 9 columns</p>\n</div>"
     },
     "metadata": {},
     "execution_count": 3
    }
   ],
   "source": [
    "#set up gmaps function\n",
    "gmaps.configure(api_key=g_key)\n",
    "\n",
    "#read csv file into panda dataframe\n",
    "FileData_df = pd.read_csv('../WeatherPy/WeatherData.csv')\n",
    "VacationData_df = FileData_df.dropna()\n",
    "del VacationData_df[\"Unnamed: 0\"]\n",
    "VacationData_df\n"
   ]
  },
  {
   "cell_type": "markdown",
   "metadata": {},
   "source": [
    "### Humidity Heatmap\n",
    "* Configure gmaps.\n",
    "* Use the Lat and Lng as locations and Humidity as the weight.\n",
    "* Add Heatmap layer to map."
   ]
  },
  {
   "cell_type": "code",
   "execution_count": 4,
   "metadata": {},
   "outputs": [
    {
     "output_type": "display_data",
     "data": {
      "text/plain": "Figure(layout=FigureLayout(height='420px'))",
      "application/vnd.jupyter.widget-view+json": {
       "version_major": 2,
       "version_minor": 0,
       "model_id": "8945702c7433424dbab0f88110d4ebd0"
      }
     },
     "metadata": {}
    }
   ],
   "source": [
    "#remove lat/long cooridinates from data frame and store in list.\n",
    "Coordinates = VacationData_df[[\"Latitude\",\"Longitude\"]]\n",
    "\n",
    "#remove humidity data from data frame and store in list.\n",
    "Humidity = VacationData_df[\"Humidity\"]\n",
    "\n",
    "#create gmaps base diagram\n",
    "fig = gmaps.figure()\n",
    "\n",
    "#create heat map\n",
    "VacayHeatMap = gmaps.heatmap_layer(Coordinates, weights=Humidity, \n",
    "                                 dissipating=False, max_intensity=100,\n",
    "                                 point_radius=2)\n",
    "#merge layer\n",
    "fig.add_layer(VacayHeatMap)\n",
    "\n",
    "#display\n",
    "fig"
   ]
  },
  {
   "cell_type": "markdown",
   "metadata": {},
   "source": [
    "### Create new DataFrame fitting weather criteria\n",
    "* Narrow down the cities to fit weather conditions.\n",
    "* Drop any rows will null values."
   ]
  },
  {
   "cell_type": "code",
   "execution_count": 5,
   "metadata": {},
   "outputs": [
    {
     "output_type": "execute_result",
     "data": {
      "text/plain": [
       "    index            City Country        Date  Latitude  Longitude  \\\n",
       "0      53         mataura      NZ  1605236359    -46.19     168.86   \n",
       "1      54           bluff      NZ  1605236360    -46.60     168.33   \n",
       "2     106    saint-joseph      RE  1605236372    -21.37      55.62   \n",
       "3     110          ormara      PK  1605236372     25.21      64.64   \n",
       "4     134           hefei      CN  1605236378     31.86     117.28   \n",
       "5     152    saint-pierre      RE  1605236381    -21.34      55.48   \n",
       "6     171  saint-philippe      RE  1605236385    -21.36      55.77   \n",
       "7     193      sao filipe      CV  1605236390     14.90     -24.50   \n",
       "8     255    musafirkhana      IN  1605236413     26.37      81.80   \n",
       "9     279          khonsa      IN  1605236421     27.02      95.57   \n",
       "10    307        linguere      SN  1605236429     15.40     -15.12   \n",
       "11    318            tari      NG  1605236433     12.41       4.49   \n",
       "12    337            tura      IN  1605236438     25.52      90.22   \n",
       "13    340           nioro      GM  1605236439     13.35     -15.75   \n",
       "14    374  cap malheureux      MU  1605236448    -19.98      57.61   \n",
       "15    384             sur      OM  1605236451     22.57      59.53   \n",
       "16    420       tuatapere      NZ  1605236460    -46.13     167.68   \n",
       "17    437         bikaner      IN  1605236414     28.02      73.30   \n",
       "18    459            tezu      IN  1605236470     27.92      96.17   \n",
       "19    491            tera      NE  1605236477     14.01       0.75   \n",
       "20    518         lafiagi      NG  1605236482      8.87       5.42   \n",
       "21    532         dindori      IN  1605236486     22.95      81.08   \n",
       "22    536       sotouboua      TG  1605236487      8.57       0.98   \n",
       "\n",
       "    Maximum Temperature  Wind Speed  Humidity  Cloudiness  \n",
       "0                 73.00        8.01        46           0  \n",
       "1                 73.00        8.01        46           0  \n",
       "2                 75.20        5.82        57           0  \n",
       "3                 78.46        5.79        44           0  \n",
       "4                 71.01        6.71        55           0  \n",
       "5                 75.20        5.82        57           0  \n",
       "6                 75.20        5.82        57           0  \n",
       "7                 80.91        2.84        61           0  \n",
       "8                 75.13        3.09        34           0  \n",
       "9                 72.23        2.57        50           0  \n",
       "10                78.33        9.04        17           0  \n",
       "11                72.72        9.57        25           0  \n",
       "12                76.32        3.13        65           0  \n",
       "13                73.13        2.30        27           0  \n",
       "14                78.01        1.99        75           0  \n",
       "15                73.85        4.23        59           0  \n",
       "16                72.00        8.01        47           0  \n",
       "17                71.56        5.28        23           0  \n",
       "18                77.70        2.28        41           0  \n",
       "19                74.12        9.01        20           0  \n",
       "20                74.39        2.53        43           0  \n",
       "21                73.80        2.46        69           0  \n",
       "22                73.35        3.42        44           0  "
      ],
      "text/html": "<div>\n<style scoped>\n    .dataframe tbody tr th:only-of-type {\n        vertical-align: middle;\n    }\n\n    .dataframe tbody tr th {\n        vertical-align: top;\n    }\n\n    .dataframe thead th {\n        text-align: right;\n    }\n</style>\n<table border=\"1\" class=\"dataframe\">\n  <thead>\n    <tr style=\"text-align: right;\">\n      <th></th>\n      <th>index</th>\n      <th>City</th>\n      <th>Country</th>\n      <th>Date</th>\n      <th>Latitude</th>\n      <th>Longitude</th>\n      <th>Maximum Temperature</th>\n      <th>Wind Speed</th>\n      <th>Humidity</th>\n      <th>Cloudiness</th>\n    </tr>\n  </thead>\n  <tbody>\n    <tr>\n      <th>0</th>\n      <td>53</td>\n      <td>mataura</td>\n      <td>NZ</td>\n      <td>1605236359</td>\n      <td>-46.19</td>\n      <td>168.86</td>\n      <td>73.00</td>\n      <td>8.01</td>\n      <td>46</td>\n      <td>0</td>\n    </tr>\n    <tr>\n      <th>1</th>\n      <td>54</td>\n      <td>bluff</td>\n      <td>NZ</td>\n      <td>1605236360</td>\n      <td>-46.60</td>\n      <td>168.33</td>\n      <td>73.00</td>\n      <td>8.01</td>\n      <td>46</td>\n      <td>0</td>\n    </tr>\n    <tr>\n      <th>2</th>\n      <td>106</td>\n      <td>saint-joseph</td>\n      <td>RE</td>\n      <td>1605236372</td>\n      <td>-21.37</td>\n      <td>55.62</td>\n      <td>75.20</td>\n      <td>5.82</td>\n      <td>57</td>\n      <td>0</td>\n    </tr>\n    <tr>\n      <th>3</th>\n      <td>110</td>\n      <td>ormara</td>\n      <td>PK</td>\n      <td>1605236372</td>\n      <td>25.21</td>\n      <td>64.64</td>\n      <td>78.46</td>\n      <td>5.79</td>\n      <td>44</td>\n      <td>0</td>\n    </tr>\n    <tr>\n      <th>4</th>\n      <td>134</td>\n      <td>hefei</td>\n      <td>CN</td>\n      <td>1605236378</td>\n      <td>31.86</td>\n      <td>117.28</td>\n      <td>71.01</td>\n      <td>6.71</td>\n      <td>55</td>\n      <td>0</td>\n    </tr>\n    <tr>\n      <th>5</th>\n      <td>152</td>\n      <td>saint-pierre</td>\n      <td>RE</td>\n      <td>1605236381</td>\n      <td>-21.34</td>\n      <td>55.48</td>\n      <td>75.20</td>\n      <td>5.82</td>\n      <td>57</td>\n      <td>0</td>\n    </tr>\n    <tr>\n      <th>6</th>\n      <td>171</td>\n      <td>saint-philippe</td>\n      <td>RE</td>\n      <td>1605236385</td>\n      <td>-21.36</td>\n      <td>55.77</td>\n      <td>75.20</td>\n      <td>5.82</td>\n      <td>57</td>\n      <td>0</td>\n    </tr>\n    <tr>\n      <th>7</th>\n      <td>193</td>\n      <td>sao filipe</td>\n      <td>CV</td>\n      <td>1605236390</td>\n      <td>14.90</td>\n      <td>-24.50</td>\n      <td>80.91</td>\n      <td>2.84</td>\n      <td>61</td>\n      <td>0</td>\n    </tr>\n    <tr>\n      <th>8</th>\n      <td>255</td>\n      <td>musafirkhana</td>\n      <td>IN</td>\n      <td>1605236413</td>\n      <td>26.37</td>\n      <td>81.80</td>\n      <td>75.13</td>\n      <td>3.09</td>\n      <td>34</td>\n      <td>0</td>\n    </tr>\n    <tr>\n      <th>9</th>\n      <td>279</td>\n      <td>khonsa</td>\n      <td>IN</td>\n      <td>1605236421</td>\n      <td>27.02</td>\n      <td>95.57</td>\n      <td>72.23</td>\n      <td>2.57</td>\n      <td>50</td>\n      <td>0</td>\n    </tr>\n    <tr>\n      <th>10</th>\n      <td>307</td>\n      <td>linguere</td>\n      <td>SN</td>\n      <td>1605236429</td>\n      <td>15.40</td>\n      <td>-15.12</td>\n      <td>78.33</td>\n      <td>9.04</td>\n      <td>17</td>\n      <td>0</td>\n    </tr>\n    <tr>\n      <th>11</th>\n      <td>318</td>\n      <td>tari</td>\n      <td>NG</td>\n      <td>1605236433</td>\n      <td>12.41</td>\n      <td>4.49</td>\n      <td>72.72</td>\n      <td>9.57</td>\n      <td>25</td>\n      <td>0</td>\n    </tr>\n    <tr>\n      <th>12</th>\n      <td>337</td>\n      <td>tura</td>\n      <td>IN</td>\n      <td>1605236438</td>\n      <td>25.52</td>\n      <td>90.22</td>\n      <td>76.32</td>\n      <td>3.13</td>\n      <td>65</td>\n      <td>0</td>\n    </tr>\n    <tr>\n      <th>13</th>\n      <td>340</td>\n      <td>nioro</td>\n      <td>GM</td>\n      <td>1605236439</td>\n      <td>13.35</td>\n      <td>-15.75</td>\n      <td>73.13</td>\n      <td>2.30</td>\n      <td>27</td>\n      <td>0</td>\n    </tr>\n    <tr>\n      <th>14</th>\n      <td>374</td>\n      <td>cap malheureux</td>\n      <td>MU</td>\n      <td>1605236448</td>\n      <td>-19.98</td>\n      <td>57.61</td>\n      <td>78.01</td>\n      <td>1.99</td>\n      <td>75</td>\n      <td>0</td>\n    </tr>\n    <tr>\n      <th>15</th>\n      <td>384</td>\n      <td>sur</td>\n      <td>OM</td>\n      <td>1605236451</td>\n      <td>22.57</td>\n      <td>59.53</td>\n      <td>73.85</td>\n      <td>4.23</td>\n      <td>59</td>\n      <td>0</td>\n    </tr>\n    <tr>\n      <th>16</th>\n      <td>420</td>\n      <td>tuatapere</td>\n      <td>NZ</td>\n      <td>1605236460</td>\n      <td>-46.13</td>\n      <td>167.68</td>\n      <td>72.00</td>\n      <td>8.01</td>\n      <td>47</td>\n      <td>0</td>\n    </tr>\n    <tr>\n      <th>17</th>\n      <td>437</td>\n      <td>bikaner</td>\n      <td>IN</td>\n      <td>1605236414</td>\n      <td>28.02</td>\n      <td>73.30</td>\n      <td>71.56</td>\n      <td>5.28</td>\n      <td>23</td>\n      <td>0</td>\n    </tr>\n    <tr>\n      <th>18</th>\n      <td>459</td>\n      <td>tezu</td>\n      <td>IN</td>\n      <td>1605236470</td>\n      <td>27.92</td>\n      <td>96.17</td>\n      <td>77.70</td>\n      <td>2.28</td>\n      <td>41</td>\n      <td>0</td>\n    </tr>\n    <tr>\n      <th>19</th>\n      <td>491</td>\n      <td>tera</td>\n      <td>NE</td>\n      <td>1605236477</td>\n      <td>14.01</td>\n      <td>0.75</td>\n      <td>74.12</td>\n      <td>9.01</td>\n      <td>20</td>\n      <td>0</td>\n    </tr>\n    <tr>\n      <th>20</th>\n      <td>518</td>\n      <td>lafiagi</td>\n      <td>NG</td>\n      <td>1605236482</td>\n      <td>8.87</td>\n      <td>5.42</td>\n      <td>74.39</td>\n      <td>2.53</td>\n      <td>43</td>\n      <td>0</td>\n    </tr>\n    <tr>\n      <th>21</th>\n      <td>532</td>\n      <td>dindori</td>\n      <td>IN</td>\n      <td>1605236486</td>\n      <td>22.95</td>\n      <td>81.08</td>\n      <td>73.80</td>\n      <td>2.46</td>\n      <td>69</td>\n      <td>0</td>\n    </tr>\n    <tr>\n      <th>22</th>\n      <td>536</td>\n      <td>sotouboua</td>\n      <td>TG</td>\n      <td>1605236487</td>\n      <td>8.57</td>\n      <td>0.98</td>\n      <td>73.35</td>\n      <td>3.42</td>\n      <td>44</td>\n      <td>0</td>\n    </tr>\n  </tbody>\n</table>\n</div>"
     },
     "metadata": {},
     "execution_count": 5
    }
   ],
   "source": [
    "#create dataframe of cloudiness equal to zero\n",
    "VacationDataCloud_df = VacationData_df[VacationData_df['Cloudiness']==0]\n",
    "\n",
    "#create dataframe of maximum temperature greater than 70\n",
    "VacationDataTemperature_df = VacationDataCloud_df[VacationDataCloud_df['Maximum Temperature']>=70]\n",
    "\n",
    "#create dataframe of maximum temperature less than 90\n",
    "VacationDataTemperature2_df = VacationDataTemperature_df[VacationDataTemperature_df['Maximum Temperature']<=90]\n",
    "\n",
    "#create dataframe of wind speed less than equal 10\n",
    "VacationDataWind_df = VacationDataTemperature2_df[VacationDataTemperature2_df['Wind Speed']<=10]\n",
    "\n",
    "#create dataframe of humidity less than 80%\n",
    "VacationHappy_df = VacationDataWind_df[VacationDataWind_df['Humidity']<80]\n",
    "\n",
    "#drop rows & reset index, then display\n",
    "VacationHappy2_df = VacationHappy_df.reset_index()\n",
    "VacationHappy2_df"
   ]
  },
  {
   "cell_type": "markdown",
   "metadata": {},
   "source": [
    "### Hotel Map\n",
    "* Store into variable named `hotel_df`.\n",
    "* Add a \"Hotel Name\" column to the DataFrame.\n",
    "* Set parameters to search for hotels with 5000 meters.\n",
    "* Hit the Google Places API for each city's coordinates.\n",
    "* Store the first Hotel result into the DataFrame.\n",
    "* Plot markers on top of the heatmap."
   ]
  },
  {
   "cell_type": "code",
   "execution_count": 6,
   "metadata": {},
   "outputs": [
    {
     "output_type": "execute_result",
     "data": {
      "text/plain": [
       "    index            City Country        Date  Latitude  Longitude  \\\n",
       "0      53         mataura      NZ  1605236359    -46.19     168.86   \n",
       "1      54           bluff      NZ  1605236360    -46.60     168.33   \n",
       "2     106    saint-joseph      RE  1605236372    -21.37      55.62   \n",
       "3     110          ormara      PK  1605236372     25.21      64.64   \n",
       "4     134           hefei      CN  1605236378     31.86     117.28   \n",
       "5     152    saint-pierre      RE  1605236381    -21.34      55.48   \n",
       "6     171  saint-philippe      RE  1605236385    -21.36      55.77   \n",
       "7     193      sao filipe      CV  1605236390     14.90     -24.50   \n",
       "8     255    musafirkhana      IN  1605236413     26.37      81.80   \n",
       "9     279          khonsa      IN  1605236421     27.02      95.57   \n",
       "10    307        linguere      SN  1605236429     15.40     -15.12   \n",
       "11    318            tari      NG  1605236433     12.41       4.49   \n",
       "12    337            tura      IN  1605236438     25.52      90.22   \n",
       "13    340           nioro      GM  1605236439     13.35     -15.75   \n",
       "14    374  cap malheureux      MU  1605236448    -19.98      57.61   \n",
       "15    384             sur      OM  1605236451     22.57      59.53   \n",
       "16    420       tuatapere      NZ  1605236460    -46.13     167.68   \n",
       "17    437         bikaner      IN  1605236414     28.02      73.30   \n",
       "18    459            tezu      IN  1605236470     27.92      96.17   \n",
       "19    491            tera      NE  1605236477     14.01       0.75   \n",
       "20    518         lafiagi      NG  1605236482      8.87       5.42   \n",
       "21    532         dindori      IN  1605236486     22.95      81.08   \n",
       "22    536       sotouboua      TG  1605236487      8.57       0.98   \n",
       "\n",
       "    Maximum Temperature  Wind Speed  Humidity  Cloudiness Hotel Name  \n",
       "0                 73.00        8.01        46           0             \n",
       "1                 73.00        8.01        46           0             \n",
       "2                 75.20        5.82        57           0             \n",
       "3                 78.46        5.79        44           0             \n",
       "4                 71.01        6.71        55           0             \n",
       "5                 75.20        5.82        57           0             \n",
       "6                 75.20        5.82        57           0             \n",
       "7                 80.91        2.84        61           0             \n",
       "8                 75.13        3.09        34           0             \n",
       "9                 72.23        2.57        50           0             \n",
       "10                78.33        9.04        17           0             \n",
       "11                72.72        9.57        25           0             \n",
       "12                76.32        3.13        65           0             \n",
       "13                73.13        2.30        27           0             \n",
       "14                78.01        1.99        75           0             \n",
       "15                73.85        4.23        59           0             \n",
       "16                72.00        8.01        47           0             \n",
       "17                71.56        5.28        23           0             \n",
       "18                77.70        2.28        41           0             \n",
       "19                74.12        9.01        20           0             \n",
       "20                74.39        2.53        43           0             \n",
       "21                73.80        2.46        69           0             \n",
       "22                73.35        3.42        44           0             "
      ],
      "text/html": "<div>\n<style scoped>\n    .dataframe tbody tr th:only-of-type {\n        vertical-align: middle;\n    }\n\n    .dataframe tbody tr th {\n        vertical-align: top;\n    }\n\n    .dataframe thead th {\n        text-align: right;\n    }\n</style>\n<table border=\"1\" class=\"dataframe\">\n  <thead>\n    <tr style=\"text-align: right;\">\n      <th></th>\n      <th>index</th>\n      <th>City</th>\n      <th>Country</th>\n      <th>Date</th>\n      <th>Latitude</th>\n      <th>Longitude</th>\n      <th>Maximum Temperature</th>\n      <th>Wind Speed</th>\n      <th>Humidity</th>\n      <th>Cloudiness</th>\n      <th>Hotel Name</th>\n    </tr>\n  </thead>\n  <tbody>\n    <tr>\n      <th>0</th>\n      <td>53</td>\n      <td>mataura</td>\n      <td>NZ</td>\n      <td>1605236359</td>\n      <td>-46.19</td>\n      <td>168.86</td>\n      <td>73.00</td>\n      <td>8.01</td>\n      <td>46</td>\n      <td>0</td>\n      <td></td>\n    </tr>\n    <tr>\n      <th>1</th>\n      <td>54</td>\n      <td>bluff</td>\n      <td>NZ</td>\n      <td>1605236360</td>\n      <td>-46.60</td>\n      <td>168.33</td>\n      <td>73.00</td>\n      <td>8.01</td>\n      <td>46</td>\n      <td>0</td>\n      <td></td>\n    </tr>\n    <tr>\n      <th>2</th>\n      <td>106</td>\n      <td>saint-joseph</td>\n      <td>RE</td>\n      <td>1605236372</td>\n      <td>-21.37</td>\n      <td>55.62</td>\n      <td>75.20</td>\n      <td>5.82</td>\n      <td>57</td>\n      <td>0</td>\n      <td></td>\n    </tr>\n    <tr>\n      <th>3</th>\n      <td>110</td>\n      <td>ormara</td>\n      <td>PK</td>\n      <td>1605236372</td>\n      <td>25.21</td>\n      <td>64.64</td>\n      <td>78.46</td>\n      <td>5.79</td>\n      <td>44</td>\n      <td>0</td>\n      <td></td>\n    </tr>\n    <tr>\n      <th>4</th>\n      <td>134</td>\n      <td>hefei</td>\n      <td>CN</td>\n      <td>1605236378</td>\n      <td>31.86</td>\n      <td>117.28</td>\n      <td>71.01</td>\n      <td>6.71</td>\n      <td>55</td>\n      <td>0</td>\n      <td></td>\n    </tr>\n    <tr>\n      <th>5</th>\n      <td>152</td>\n      <td>saint-pierre</td>\n      <td>RE</td>\n      <td>1605236381</td>\n      <td>-21.34</td>\n      <td>55.48</td>\n      <td>75.20</td>\n      <td>5.82</td>\n      <td>57</td>\n      <td>0</td>\n      <td></td>\n    </tr>\n    <tr>\n      <th>6</th>\n      <td>171</td>\n      <td>saint-philippe</td>\n      <td>RE</td>\n      <td>1605236385</td>\n      <td>-21.36</td>\n      <td>55.77</td>\n      <td>75.20</td>\n      <td>5.82</td>\n      <td>57</td>\n      <td>0</td>\n      <td></td>\n    </tr>\n    <tr>\n      <th>7</th>\n      <td>193</td>\n      <td>sao filipe</td>\n      <td>CV</td>\n      <td>1605236390</td>\n      <td>14.90</td>\n      <td>-24.50</td>\n      <td>80.91</td>\n      <td>2.84</td>\n      <td>61</td>\n      <td>0</td>\n      <td></td>\n    </tr>\n    <tr>\n      <th>8</th>\n      <td>255</td>\n      <td>musafirkhana</td>\n      <td>IN</td>\n      <td>1605236413</td>\n      <td>26.37</td>\n      <td>81.80</td>\n      <td>75.13</td>\n      <td>3.09</td>\n      <td>34</td>\n      <td>0</td>\n      <td></td>\n    </tr>\n    <tr>\n      <th>9</th>\n      <td>279</td>\n      <td>khonsa</td>\n      <td>IN</td>\n      <td>1605236421</td>\n      <td>27.02</td>\n      <td>95.57</td>\n      <td>72.23</td>\n      <td>2.57</td>\n      <td>50</td>\n      <td>0</td>\n      <td></td>\n    </tr>\n    <tr>\n      <th>10</th>\n      <td>307</td>\n      <td>linguere</td>\n      <td>SN</td>\n      <td>1605236429</td>\n      <td>15.40</td>\n      <td>-15.12</td>\n      <td>78.33</td>\n      <td>9.04</td>\n      <td>17</td>\n      <td>0</td>\n      <td></td>\n    </tr>\n    <tr>\n      <th>11</th>\n      <td>318</td>\n      <td>tari</td>\n      <td>NG</td>\n      <td>1605236433</td>\n      <td>12.41</td>\n      <td>4.49</td>\n      <td>72.72</td>\n      <td>9.57</td>\n      <td>25</td>\n      <td>0</td>\n      <td></td>\n    </tr>\n    <tr>\n      <th>12</th>\n      <td>337</td>\n      <td>tura</td>\n      <td>IN</td>\n      <td>1605236438</td>\n      <td>25.52</td>\n      <td>90.22</td>\n      <td>76.32</td>\n      <td>3.13</td>\n      <td>65</td>\n      <td>0</td>\n      <td></td>\n    </tr>\n    <tr>\n      <th>13</th>\n      <td>340</td>\n      <td>nioro</td>\n      <td>GM</td>\n      <td>1605236439</td>\n      <td>13.35</td>\n      <td>-15.75</td>\n      <td>73.13</td>\n      <td>2.30</td>\n      <td>27</td>\n      <td>0</td>\n      <td></td>\n    </tr>\n    <tr>\n      <th>14</th>\n      <td>374</td>\n      <td>cap malheureux</td>\n      <td>MU</td>\n      <td>1605236448</td>\n      <td>-19.98</td>\n      <td>57.61</td>\n      <td>78.01</td>\n      <td>1.99</td>\n      <td>75</td>\n      <td>0</td>\n      <td></td>\n    </tr>\n    <tr>\n      <th>15</th>\n      <td>384</td>\n      <td>sur</td>\n      <td>OM</td>\n      <td>1605236451</td>\n      <td>22.57</td>\n      <td>59.53</td>\n      <td>73.85</td>\n      <td>4.23</td>\n      <td>59</td>\n      <td>0</td>\n      <td></td>\n    </tr>\n    <tr>\n      <th>16</th>\n      <td>420</td>\n      <td>tuatapere</td>\n      <td>NZ</td>\n      <td>1605236460</td>\n      <td>-46.13</td>\n      <td>167.68</td>\n      <td>72.00</td>\n      <td>8.01</td>\n      <td>47</td>\n      <td>0</td>\n      <td></td>\n    </tr>\n    <tr>\n      <th>17</th>\n      <td>437</td>\n      <td>bikaner</td>\n      <td>IN</td>\n      <td>1605236414</td>\n      <td>28.02</td>\n      <td>73.30</td>\n      <td>71.56</td>\n      <td>5.28</td>\n      <td>23</td>\n      <td>0</td>\n      <td></td>\n    </tr>\n    <tr>\n      <th>18</th>\n      <td>459</td>\n      <td>tezu</td>\n      <td>IN</td>\n      <td>1605236470</td>\n      <td>27.92</td>\n      <td>96.17</td>\n      <td>77.70</td>\n      <td>2.28</td>\n      <td>41</td>\n      <td>0</td>\n      <td></td>\n    </tr>\n    <tr>\n      <th>19</th>\n      <td>491</td>\n      <td>tera</td>\n      <td>NE</td>\n      <td>1605236477</td>\n      <td>14.01</td>\n      <td>0.75</td>\n      <td>74.12</td>\n      <td>9.01</td>\n      <td>20</td>\n      <td>0</td>\n      <td></td>\n    </tr>\n    <tr>\n      <th>20</th>\n      <td>518</td>\n      <td>lafiagi</td>\n      <td>NG</td>\n      <td>1605236482</td>\n      <td>8.87</td>\n      <td>5.42</td>\n      <td>74.39</td>\n      <td>2.53</td>\n      <td>43</td>\n      <td>0</td>\n      <td></td>\n    </tr>\n    <tr>\n      <th>21</th>\n      <td>532</td>\n      <td>dindori</td>\n      <td>IN</td>\n      <td>1605236486</td>\n      <td>22.95</td>\n      <td>81.08</td>\n      <td>73.80</td>\n      <td>2.46</td>\n      <td>69</td>\n      <td>0</td>\n      <td></td>\n    </tr>\n    <tr>\n      <th>22</th>\n      <td>536</td>\n      <td>sotouboua</td>\n      <td>TG</td>\n      <td>1605236487</td>\n      <td>8.57</td>\n      <td>0.98</td>\n      <td>73.35</td>\n      <td>3.42</td>\n      <td>44</td>\n      <td>0</td>\n      <td></td>\n    </tr>\n  </tbody>\n</table>\n</div>"
     },
     "metadata": {},
     "execution_count": 6
    }
   ],
   "source": [
    "#create hotel_df \n",
    "hotel_df = VacationHappy2_df\n",
    "\n",
    "#add \"Hotel Name\" column\n",
    "hotel_df[\"Hotel Name\"] = \"\"\n",
    "hotel_df"
   ]
  },
  {
   "cell_type": "code",
   "execution_count": 7,
   "metadata": {},
   "outputs": [
    {
     "output_type": "execute_result",
     "data": {
      "text/plain": [
       "    index            City Country        Date  Latitude  Longitude  \\\n",
       "0      53         mataura      NZ  1605236359    -46.19     168.86   \n",
       "1      54           bluff      NZ  1605236360    -46.60     168.33   \n",
       "2     106    saint-joseph      RE  1605236372    -21.37      55.62   \n",
       "3     110          ormara      PK  1605236372     25.21      64.64   \n",
       "4     134           hefei      CN  1605236378     31.86     117.28   \n",
       "5     152    saint-pierre      RE  1605236381    -21.34      55.48   \n",
       "6     171  saint-philippe      RE  1605236385    -21.36      55.77   \n",
       "7     193      sao filipe      CV  1605236390     14.90     -24.50   \n",
       "8     255    musafirkhana      IN  1605236413     26.37      81.80   \n",
       "9     279          khonsa      IN  1605236421     27.02      95.57   \n",
       "10    307        linguere      SN  1605236429     15.40     -15.12   \n",
       "11    318            tari      NG  1605236433     12.41       4.49   \n",
       "12    337            tura      IN  1605236438     25.52      90.22   \n",
       "13    340           nioro      GM  1605236439     13.35     -15.75   \n",
       "14    374  cap malheureux      MU  1605236448    -19.98      57.61   \n",
       "15    384             sur      OM  1605236451     22.57      59.53   \n",
       "16    420       tuatapere      NZ  1605236460    -46.13     167.68   \n",
       "17    437         bikaner      IN  1605236414     28.02      73.30   \n",
       "18    459            tezu      IN  1605236470     27.92      96.17   \n",
       "19    491            tera      NE  1605236477     14.01       0.75   \n",
       "20    518         lafiagi      NG  1605236482      8.87       5.42   \n",
       "21    532         dindori      IN  1605236486     22.95      81.08   \n",
       "22    536       sotouboua      TG  1605236487      8.57       0.98   \n",
       "\n",
       "    Maximum Temperature  Wind Speed  Humidity  Cloudiness  \\\n",
       "0                 73.00        8.01        46           0   \n",
       "1                 73.00        8.01        46           0   \n",
       "2                 75.20        5.82        57           0   \n",
       "3                 78.46        5.79        44           0   \n",
       "4                 71.01        6.71        55           0   \n",
       "5                 75.20        5.82        57           0   \n",
       "6                 75.20        5.82        57           0   \n",
       "7                 80.91        2.84        61           0   \n",
       "8                 75.13        3.09        34           0   \n",
       "9                 72.23        2.57        50           0   \n",
       "10                78.33        9.04        17           0   \n",
       "11                72.72        9.57        25           0   \n",
       "12                76.32        3.13        65           0   \n",
       "13                73.13        2.30        27           0   \n",
       "14                78.01        1.99        75           0   \n",
       "15                73.85        4.23        59           0   \n",
       "16                72.00        8.01        47           0   \n",
       "17                71.56        5.28        23           0   \n",
       "18                77.70        2.28        41           0   \n",
       "19                74.12        9.01        20           0   \n",
       "20                74.39        2.53        43           0   \n",
       "21                73.80        2.46        69           0   \n",
       "22                73.35        3.42        44           0   \n",
       "\n",
       "                                       Hotel Name  \n",
       "0                                   Ellie's Villa  \n",
       "1   Bluff Homestead - Guesthouse & Campervan Park  \n",
       "2                   \"Plantation Bed and Breakfast  \n",
       "3                                             NaN  \n",
       "4                                   Jinhuan Hotel  \n",
       "5                                   Lindsey Hôtel  \n",
       "6                    Chambres d'hôte \"La Trinité\"  \n",
       "7                                     Tortuga B&B  \n",
       "8                          Hindustan Sweets House  \n",
       "9                                             NaN  \n",
       "10                              Hôtel Amadou Seck  \n",
       "11                                            NaN  \n",
       "12                       Hotel RIKMAN Continental  \n",
       "13                                            NaN  \n",
       "14                          Pereybere Hotel & Spa  \n",
       "15                                Sur Plaza Hotel  \n",
       "16                 Ron and Tony's Bed & Breakfast  \n",
       "17                         The Laxmi Niwas Palace  \n",
       "18                                  Circuit House  \n",
       "19                             Hotel Dar es salam  \n",
       "20                  EMI SONMASUN BINDOFUL LAFIAGI  \n",
       "21                             Maa Reva Bhojnalay  \n",
       "22                                 Hôtel Les Pros  "
      ],
      "text/html": "<div>\n<style scoped>\n    .dataframe tbody tr th:only-of-type {\n        vertical-align: middle;\n    }\n\n    .dataframe tbody tr th {\n        vertical-align: top;\n    }\n\n    .dataframe thead th {\n        text-align: right;\n    }\n</style>\n<table border=\"1\" class=\"dataframe\">\n  <thead>\n    <tr style=\"text-align: right;\">\n      <th></th>\n      <th>index</th>\n      <th>City</th>\n      <th>Country</th>\n      <th>Date</th>\n      <th>Latitude</th>\n      <th>Longitude</th>\n      <th>Maximum Temperature</th>\n      <th>Wind Speed</th>\n      <th>Humidity</th>\n      <th>Cloudiness</th>\n      <th>Hotel Name</th>\n    </tr>\n  </thead>\n  <tbody>\n    <tr>\n      <th>0</th>\n      <td>53</td>\n      <td>mataura</td>\n      <td>NZ</td>\n      <td>1605236359</td>\n      <td>-46.19</td>\n      <td>168.86</td>\n      <td>73.00</td>\n      <td>8.01</td>\n      <td>46</td>\n      <td>0</td>\n      <td>Ellie's Villa</td>\n    </tr>\n    <tr>\n      <th>1</th>\n      <td>54</td>\n      <td>bluff</td>\n      <td>NZ</td>\n      <td>1605236360</td>\n      <td>-46.60</td>\n      <td>168.33</td>\n      <td>73.00</td>\n      <td>8.01</td>\n      <td>46</td>\n      <td>0</td>\n      <td>Bluff Homestead - Guesthouse &amp; Campervan Park</td>\n    </tr>\n    <tr>\n      <th>2</th>\n      <td>106</td>\n      <td>saint-joseph</td>\n      <td>RE</td>\n      <td>1605236372</td>\n      <td>-21.37</td>\n      <td>55.62</td>\n      <td>75.20</td>\n      <td>5.82</td>\n      <td>57</td>\n      <td>0</td>\n      <td>\"Plantation Bed and Breakfast</td>\n    </tr>\n    <tr>\n      <th>3</th>\n      <td>110</td>\n      <td>ormara</td>\n      <td>PK</td>\n      <td>1605236372</td>\n      <td>25.21</td>\n      <td>64.64</td>\n      <td>78.46</td>\n      <td>5.79</td>\n      <td>44</td>\n      <td>0</td>\n      <td>NaN</td>\n    </tr>\n    <tr>\n      <th>4</th>\n      <td>134</td>\n      <td>hefei</td>\n      <td>CN</td>\n      <td>1605236378</td>\n      <td>31.86</td>\n      <td>117.28</td>\n      <td>71.01</td>\n      <td>6.71</td>\n      <td>55</td>\n      <td>0</td>\n      <td>Jinhuan Hotel</td>\n    </tr>\n    <tr>\n      <th>5</th>\n      <td>152</td>\n      <td>saint-pierre</td>\n      <td>RE</td>\n      <td>1605236381</td>\n      <td>-21.34</td>\n      <td>55.48</td>\n      <td>75.20</td>\n      <td>5.82</td>\n      <td>57</td>\n      <td>0</td>\n      <td>Lindsey Hôtel</td>\n    </tr>\n    <tr>\n      <th>6</th>\n      <td>171</td>\n      <td>saint-philippe</td>\n      <td>RE</td>\n      <td>1605236385</td>\n      <td>-21.36</td>\n      <td>55.77</td>\n      <td>75.20</td>\n      <td>5.82</td>\n      <td>57</td>\n      <td>0</td>\n      <td>Chambres d'hôte \"La Trinité\"</td>\n    </tr>\n    <tr>\n      <th>7</th>\n      <td>193</td>\n      <td>sao filipe</td>\n      <td>CV</td>\n      <td>1605236390</td>\n      <td>14.90</td>\n      <td>-24.50</td>\n      <td>80.91</td>\n      <td>2.84</td>\n      <td>61</td>\n      <td>0</td>\n      <td>Tortuga B&amp;B</td>\n    </tr>\n    <tr>\n      <th>8</th>\n      <td>255</td>\n      <td>musafirkhana</td>\n      <td>IN</td>\n      <td>1605236413</td>\n      <td>26.37</td>\n      <td>81.80</td>\n      <td>75.13</td>\n      <td>3.09</td>\n      <td>34</td>\n      <td>0</td>\n      <td>Hindustan Sweets House</td>\n    </tr>\n    <tr>\n      <th>9</th>\n      <td>279</td>\n      <td>khonsa</td>\n      <td>IN</td>\n      <td>1605236421</td>\n      <td>27.02</td>\n      <td>95.57</td>\n      <td>72.23</td>\n      <td>2.57</td>\n      <td>50</td>\n      <td>0</td>\n      <td>NaN</td>\n    </tr>\n    <tr>\n      <th>10</th>\n      <td>307</td>\n      <td>linguere</td>\n      <td>SN</td>\n      <td>1605236429</td>\n      <td>15.40</td>\n      <td>-15.12</td>\n      <td>78.33</td>\n      <td>9.04</td>\n      <td>17</td>\n      <td>0</td>\n      <td>Hôtel Amadou Seck</td>\n    </tr>\n    <tr>\n      <th>11</th>\n      <td>318</td>\n      <td>tari</td>\n      <td>NG</td>\n      <td>1605236433</td>\n      <td>12.41</td>\n      <td>4.49</td>\n      <td>72.72</td>\n      <td>9.57</td>\n      <td>25</td>\n      <td>0</td>\n      <td>NaN</td>\n    </tr>\n    <tr>\n      <th>12</th>\n      <td>337</td>\n      <td>tura</td>\n      <td>IN</td>\n      <td>1605236438</td>\n      <td>25.52</td>\n      <td>90.22</td>\n      <td>76.32</td>\n      <td>3.13</td>\n      <td>65</td>\n      <td>0</td>\n      <td>Hotel RIKMAN Continental</td>\n    </tr>\n    <tr>\n      <th>13</th>\n      <td>340</td>\n      <td>nioro</td>\n      <td>GM</td>\n      <td>1605236439</td>\n      <td>13.35</td>\n      <td>-15.75</td>\n      <td>73.13</td>\n      <td>2.30</td>\n      <td>27</td>\n      <td>0</td>\n      <td>NaN</td>\n    </tr>\n    <tr>\n      <th>14</th>\n      <td>374</td>\n      <td>cap malheureux</td>\n      <td>MU</td>\n      <td>1605236448</td>\n      <td>-19.98</td>\n      <td>57.61</td>\n      <td>78.01</td>\n      <td>1.99</td>\n      <td>75</td>\n      <td>0</td>\n      <td>Pereybere Hotel &amp; Spa</td>\n    </tr>\n    <tr>\n      <th>15</th>\n      <td>384</td>\n      <td>sur</td>\n      <td>OM</td>\n      <td>1605236451</td>\n      <td>22.57</td>\n      <td>59.53</td>\n      <td>73.85</td>\n      <td>4.23</td>\n      <td>59</td>\n      <td>0</td>\n      <td>Sur Plaza Hotel</td>\n    </tr>\n    <tr>\n      <th>16</th>\n      <td>420</td>\n      <td>tuatapere</td>\n      <td>NZ</td>\n      <td>1605236460</td>\n      <td>-46.13</td>\n      <td>167.68</td>\n      <td>72.00</td>\n      <td>8.01</td>\n      <td>47</td>\n      <td>0</td>\n      <td>Ron and Tony's Bed &amp; Breakfast</td>\n    </tr>\n    <tr>\n      <th>17</th>\n      <td>437</td>\n      <td>bikaner</td>\n      <td>IN</td>\n      <td>1605236414</td>\n      <td>28.02</td>\n      <td>73.30</td>\n      <td>71.56</td>\n      <td>5.28</td>\n      <td>23</td>\n      <td>0</td>\n      <td>The Laxmi Niwas Palace</td>\n    </tr>\n    <tr>\n      <th>18</th>\n      <td>459</td>\n      <td>tezu</td>\n      <td>IN</td>\n      <td>1605236470</td>\n      <td>27.92</td>\n      <td>96.17</td>\n      <td>77.70</td>\n      <td>2.28</td>\n      <td>41</td>\n      <td>0</td>\n      <td>Circuit House</td>\n    </tr>\n    <tr>\n      <th>19</th>\n      <td>491</td>\n      <td>tera</td>\n      <td>NE</td>\n      <td>1605236477</td>\n      <td>14.01</td>\n      <td>0.75</td>\n      <td>74.12</td>\n      <td>9.01</td>\n      <td>20</td>\n      <td>0</td>\n      <td>Hotel Dar es salam</td>\n    </tr>\n    <tr>\n      <th>20</th>\n      <td>518</td>\n      <td>lafiagi</td>\n      <td>NG</td>\n      <td>1605236482</td>\n      <td>8.87</td>\n      <td>5.42</td>\n      <td>74.39</td>\n      <td>2.53</td>\n      <td>43</td>\n      <td>0</td>\n      <td>EMI SONMASUN BINDOFUL LAFIAGI</td>\n    </tr>\n    <tr>\n      <th>21</th>\n      <td>532</td>\n      <td>dindori</td>\n      <td>IN</td>\n      <td>1605236486</td>\n      <td>22.95</td>\n      <td>81.08</td>\n      <td>73.80</td>\n      <td>2.46</td>\n      <td>69</td>\n      <td>0</td>\n      <td>Maa Reva Bhojnalay</td>\n    </tr>\n    <tr>\n      <th>22</th>\n      <td>536</td>\n      <td>sotouboua</td>\n      <td>TG</td>\n      <td>1605236487</td>\n      <td>8.57</td>\n      <td>0.98</td>\n      <td>73.35</td>\n      <td>3.42</td>\n      <td>44</td>\n      <td>0</td>\n      <td>Hôtel Les Pros</td>\n    </tr>\n  </tbody>\n</table>\n</div>"
     },
     "metadata": {},
     "execution_count": 7
    }
   ],
   "source": [
    "#create counter variable and list for hotel search\n",
    "Hotels =[]\n",
    "i = 0\n",
    "\n",
    "#loop through cities in hotel dataframe to find hotels \n",
    "for cities in hotel_df['City']:\n",
    "    \n",
    "    #create variable to store city coordinates\n",
    "    CityCoordinates = str(hotel_df['Latitude'][i])+' , '+str(hotel_df['Longitude'][i])\n",
    "\n",
    "    #set up parameters for nearby search API call\n",
    "    Radius = 5000\n",
    "    Type = 'lodging'\n",
    "    params = {\"location\": CityCoordinates, \"radius\": Radius, \"type\": Type, \"key\": g_key}\n",
    "    baseURL = \"https://maps.googleapis.com/maps/api/place/nearbysearch/json\"\n",
    "\n",
    "    #update counter variable\n",
    "    i = i + 1\n",
    "    \n",
    "    try:\n",
    "        HotelsNearby = requests.get(baseURL, params=params).json()\n",
    "        Hotels.append(HotelsNearby['results'][0]['name'])\n",
    "        \n",
    "    except IndexError:\n",
    "        Hotels.append(np.nan)\n",
    "\n",
    "#append dataframe with hotel names\n",
    "hotel_df['Hotel Name'] = Hotels\n",
    "hotel_df\n"
   ]
  },
  {
   "cell_type": "code",
   "execution_count": 8,
   "metadata": {},
   "outputs": [],
   "source": [
    "# NOTE: Do not change any of the code in this cell\n",
    "\n",
    "# Using the template add the hotel marks to the heatmap\n",
    "info_box_template = \"\"\"\n",
    "<dl>\n",
    "<dt>Name</dt><dd>{Hotel Name}</dd>\n",
    "<dt>City</dt><dd>{City}</dd>\n",
    "<dt>Country</dt><dd>{Country}</dd>\n",
    "</dl>\n",
    "\"\"\"\n",
    "# Store the DataFrame Row\n",
    "# NOTE: be sure to update with your DataFrame name\n",
    "hotel_info = [info_box_template.format(**row) for index, row in hotel_df.iterrows()]\n",
    "locations = hotel_df[[\"Latitude\", \"Longitude\"]]"
   ]
  },
  {
   "cell_type": "code",
   "execution_count": 9,
   "metadata": {},
   "outputs": [
    {
     "output_type": "display_data",
     "data": {
      "text/plain": "Figure(layout=FigureLayout(height='420px'))",
      "application/vnd.jupyter.widget-view+json": {
       "version_major": 2,
       "version_minor": 0,
       "model_id": "8d2d880fa801471ea31b4023b6c8daeb"
      }
     },
     "metadata": {}
    }
   ],
   "source": [
    "#create google map figures\n",
    "fig = gmaps.figure()\n",
    "\n",
    "#create gmaps base diagram\n",
    "markers = gmaps.marker_layer(locations, info_box_content=hotel_info)\n",
    "\n",
    "#add marker layer\n",
    "fig.add_layer(markers)\n",
    "\n",
    "#display figure\n",
    "fig"
   ]
  },
  {
   "cell_type": "code",
   "execution_count": null,
   "metadata": {},
   "outputs": [],
   "source": []
  }
 ],
 "metadata": {
  "kernelspec": {
   "name": "python3",
   "display_name": "Python 3.6.10 64-bit",
   "metadata": {
    "interpreter": {
     "hash": "7747e7db3161e0bac30fa740e3676e229ea3ec0eb297799d9e39794dc185e3ec"
    }
   }
  },
  "language_info": {
   "codemirror_mode": {
    "name": "ipython",
    "version": 3
   },
   "file_extension": ".py",
   "mimetype": "text/x-python",
   "name": "python",
   "nbconvert_exporter": "python",
   "pygments_lexer": "ipython3",
   "version": "3.6.10-final"
  },
  "latex_envs": {
   "LaTeX_envs_menu_present": true,
   "autoclose": false,
   "autocomplete": true,
   "bibliofile": "biblio.bib",
   "cite_by": "apalike",
   "current_citInitial": 1,
   "eqLabelWithNumbers": true,
   "eqNumInitial": 1,
   "hotkeys": {
    "equation": "Ctrl-E",
    "itemize": "Ctrl-I"
   },
   "labels_anchors": false,
   "latex_user_defs": false,
   "report_style_numbering": false,
   "user_envs_cfg": false
  }
 },
 "nbformat": 4,
 "nbformat_minor": 4
}